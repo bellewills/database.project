{
 "cells": [
  {
   "cell_type": "code",
   "execution_count": null,
   "id": "a6a3ddcf",
   "metadata": {},
   "outputs": [],
   "source": [
    "# Import necessary libraries\n",
    "import pandas as pd\n",
    "import matplotlib.pyplot as plt\n",
    "\n",
    "# Load the air quality dataset\n",
    "data = pd.read_csv('air_quality.csv')\n",
    "\n",
    "# Display the first few rows of the dataset\n",
    "data.head()\n",
    "\n",
    "# Display basic information about the dataset\n",
    "data.info()\n",
    "\n",
    "# Check for missing values\n",
    "missing_values = data.isnull().sum()\n",
    "print(f\"Missing values in each column:\\n{missing_values}\")\n",
    "\n",
    "# Convert 'date' column to datetime\n",
    "data['date'] = pd.to_datetime(data['date'])\n",
    "\n",
    "# Set the 'date' column as the index\n",
    "data.set_index('date', inplace=True)\n",
    "\n",
    "# Calculate the average air quality per month\n",
    "monthly_avg = data.resample('M').mean()\n",
    "\n",
    "# Plot the average air quality per month\n",
    "plt.figure(figsize=(10, 6))\n",
    "plt.plot(monthly_avg.index, monthly_avg['air_quality_index'], marker='o')\n",
    "plt.title('Average Monthly Air Quality Index')\n",
    "plt.xlabel('Date')\n",
    "plt.ylabel('Air Quality Index')\n",
    "plt.grid(True)\n",
    "plt.show()\n"
   ]
  },
  {
   "cell_type": "code",
   "execution_count": null,
   "id": "cae1a64e",
   "metadata": {},
   "outputs": [],
   "source": []
  }
 ],
 "metadata": {
  "kernelspec": {
   "display_name": "Python 3 (ipykernel)",
   "language": "python",
   "name": "python3"
  },
  "language_info": {
   "codemirror_mode": {
    "name": "ipython",
    "version": 3
   },
   "file_extension": ".py",
   "mimetype": "text/x-python",
   "name": "python",
   "nbconvert_exporter": "python",
   "pygments_lexer": "ipython3",
   "version": "3.11.5"
  }
 },
 "nbformat": 4,
 "nbformat_minor": 5
}
